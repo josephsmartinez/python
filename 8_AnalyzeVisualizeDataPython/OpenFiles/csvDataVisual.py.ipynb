{
 "cells": [
  {
   "cell_type": "code",
   "execution_count": 1,
   "metadata": {},
   "outputs": [],
   "source": [
    "from matplotlib import pyplot\n",
    "import csv"
   ]
  },
  {
   "cell_type": "code",
   "execution_count": 4,
   "metadata": {},
   "outputs": [
    {
     "name": "stdout",
     "output_type": "stream",
     "text": [
      "['SeqID', 'Date Of Stop', 'Time Of Stop', 'Agency', 'SubAgency', 'Description', 'Location', 'Latitude', 'Longitude', 'Accident', 'Belts', 'Personal Injury', 'Property Damage', 'Fatal', 'Commercial License', 'HAZMAT', 'Commercial Vehicle', 'Alcohol', 'Work Zone', 'State', 'VehicleType', 'Year', 'Make', 'Model', 'Color', 'Violation Type', 'Charge', 'Article', 'Contributed To Accident', 'Race', 'Gender', 'Driver City', 'Driver State', 'DL State', 'Arrest Type', 'Geolocation', 'Council Districts', 'Councils', 'Communities', 'Zip Codes', 'Municipalities']\n",
      "['399e8f6b-eff8-4375-94c8-5eb9aca4be84', '01/01/2012', '03:05:00', 'MCP', '5th District, Germantown', 'PERSON DRIVING MOTOR VEHICLE ON HIGHWAY OR PUBLIC USE PROPERTY ON REVOKED LICENSE AND PRIVILEGE', 'INNER LOOPE 495 @ WISCONSION AVE', '39.0708319', '-77.1625988666667', 'No', 'No', 'No', 'No', 'No', 'No', 'No', 'No', 'No', 'No', 'MD', '02 - Automobile', '1997', 'HONDA', 'ACCORD', 'BLACK', 'Citation', '16-303(d)', 'Transportation Article', 'false', 'WHITE', 'M', 'ROCKVILLE', 'MD', 'MD', 'Q - Marked Laser', '(39.0708319, -77.162598866667)', '3', '3', '25', '53', '12']\n"
     ]
    },
    {
     "ename": "ValueError",
     "evalue": "'Race' is not in list",
     "output_type": "error",
     "traceback": [
      "\u001b[0;31m---------------------------------------------------------------------------\u001b[0m",
      "\u001b[0;31mValueError\u001b[0m                                Traceback (most recent call last)",
      "\u001b[0;32m<ipython-input-4-ee300796ff2f>\u001b[0m in \u001b[0;36m<module>\u001b[0;34m\u001b[0m\n\u001b[1;32m      4\u001b[0m     \u001b[0;32mfor\u001b[0m \u001b[0mrow\u001b[0m \u001b[0;32min\u001b[0m \u001b[0mreader\u001b[0m\u001b[0;34m:\u001b[0m\u001b[0;34m\u001b[0m\u001b[0;34m\u001b[0m\u001b[0m\n\u001b[1;32m      5\u001b[0m         \u001b[0mprint\u001b[0m\u001b[0;34m(\u001b[0m\u001b[0mrow\u001b[0m\u001b[0;34m)\u001b[0m\u001b[0;34m\u001b[0m\u001b[0;34m\u001b[0m\u001b[0m\n\u001b[0;32m----> 6\u001b[0;31m         \u001b[0mrace_row_index\u001b[0m\u001b[0;34m=\u001b[0m \u001b[0mrow\u001b[0m\u001b[0;34m.\u001b[0m\u001b[0mindex\u001b[0m\u001b[0;34m(\u001b[0m\u001b[0;34m'Race'\u001b[0m\u001b[0;34m)\u001b[0m\u001b[0;34m\u001b[0m\u001b[0;34m\u001b[0m\u001b[0m\n\u001b[0m\u001b[1;32m      7\u001b[0m         \u001b[0;32mif\u001b[0m \u001b[0;34m\"WHITE\"\u001b[0m \u001b[0;32min\u001b[0m \u001b[0mrow\u001b[0m\u001b[0;34m[\u001b[0m\u001b[0mrace_row_index\u001b[0m\u001b[0;34m]\u001b[0m\u001b[0;34m:\u001b[0m\u001b[0;34m\u001b[0m\u001b[0;34m\u001b[0m\u001b[0m\n\u001b[1;32m      8\u001b[0m             \u001b[0mrace_count\u001b[0m\u001b[0;34m[\u001b[0m\u001b[0;34m\"white\"\u001b[0m\u001b[0;34m]\u001b[0m \u001b[0;34m+=\u001b[0m \u001b[0;36m1\u001b[0m\u001b[0;34m\u001b[0m\u001b[0;34m\u001b[0m\u001b[0m\n",
      "\u001b[0;31mValueError\u001b[0m: 'Race' is not in list"
     ]
    }
   ],
   "source": [
    "with open(\"/Users/josephmartinez/Git/UNIX_Linux/Topics/TestDataFiles/CSV/Traffic/Traffic_Violations.csv\", 'rt') as csv_file:\n",
    "    reader = csv.reader(csv_file)\n",
    "    race_count={\"white\":0,\"black\":0,\"hispanic\":0}\n",
    "    for row in reader:\n",
    "        print(row)\n",
    "        race_row_index= row.index('Race')\n",
    "        if \"WHITE\" in row[race_row_index]:\n",
    "            race_count[\"white\"] += 1\n",
    "        elif \"BLACK\" in row[race_row_index]:\n",
    "            race_count[\"black\"] += 1\n",
    "        elif \"HISPANIC\" in row[race_row_index]:\n",
    "            race_count[\"hispanic\"] += 1\n",
    "print(race_count)"
   ]
  },
  {
   "cell_type": "code",
   "execution_count": null,
   "metadata": {},
   "outputs": [],
   "source": []
  },
  {
   "cell_type": "code",
   "execution_count": null,
   "metadata": {},
   "outputs": [],
   "source": []
  },
  {
   "cell_type": "code",
   "execution_count": null,
   "metadata": {},
   "outputs": [],
   "source": []
  }
 ],
 "metadata": {
  "kernelspec": {
   "display_name": "Python 3",
   "language": "python",
   "name": "python3"
  },
  "language_info": {
   "codemirror_mode": {
    "name": "ipython",
    "version": 3
   },
   "file_extension": ".py",
   "mimetype": "text/x-python",
   "name": "python",
   "nbconvert_exporter": "python",
   "pygments_lexer": "ipython3",
   "version": "3.7.3"
  }
 },
 "nbformat": 4,
 "nbformat_minor": 2
}
